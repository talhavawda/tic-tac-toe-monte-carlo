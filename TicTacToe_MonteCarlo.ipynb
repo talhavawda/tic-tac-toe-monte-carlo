{
  "nbformat": 4,
  "nbformat_minor": 0,
  "metadata": {
    "colab": {
      "name": "TicTacToe-MonteCarlo.ipynb",
      "provenance": [],
      "include_colab_link": true
    },
    "kernelspec": {
      "name": "python3",
      "display_name": "Python 3"
    },
    "language_info": {
      "name": "python"
    }
  },
  "cells": [
    {
      "cell_type": "markdown",
      "metadata": {
        "id": "view-in-github",
        "colab_type": "text"
      },
      "source": [
        "<a href=\"https://colab.research.google.com/github/talhavawda/tic-tac-toe-monte-carlo/blob/master/TicTacToe_MonteCarlo.ipynb\" target=\"_parent\"><img src=\"https://colab.research.google.com/assets/colab-badge.svg\" alt=\"Open In Colab\"/></a>"
      ]
    },
    {
      "cell_type": "markdown",
      "metadata": {
        "id": "iEsck8Dt-y9P"
      },
      "source": [
        "# Tic Tac Toe using Monte Carlo Tree Search\n",
        "\n",
        " ## COMP304 (ARTIFICIAL INTELLIGENCE) 2020 ASSIGNMENT 1\n",
        " \n",
        " Team: A1GroupWC\n",
        "\n",
        " Team Members:\n",
        " -  Azhar Mohamed&ensp;&ensp;&ensp;&ensp;&ensp;&ensp;&ensp;(218006491)\n",
        " - Yashlin Naidu &ensp;&ensp;&ensp;&ensp;&ensp;&ensp;&ensp;&ensp;&ensp;(216019492)\n",
        " - Ricardo Pillay &ensp;&ensp;&ensp;&ensp;&ensp;&ensp;&ensp;&ensp;&ensp;(218009114)\n",
        " - Ahmad Jawaad Shah&ensp;&ensp;&ensp;(218029400)\n",
        " - Talha Vawda &ensp;&ensp;&ensp;&ensp;&ensp;&ensp;&ensp;&ensp;&ensp;&ensp;(218023210)\n",
        "\n",
        "<br>\n",
        "\n",
        "## Acknowledgements and References\n",
        "\n"
      ]
    },
    {
      "cell_type": "markdown",
      "metadata": {
        "id": "lQJ45EXAfGnM"
      },
      "source": [
        "# Introduction and Background\n",
        "Talk about game variant \n",
        "\n",
        "# Imports and constants\n",
        "This cell contains all the libraries that is needed to run this game. Furthermore, constant initializations are done here and will be used throughout the notebook\n"
      ]
    },
    {
      "cell_type": "code",
      "metadata": {
        "id": "i5A_TuBS1WfV"
      },
      "source": [
        "\"\"\"\n",
        "Imports\n",
        "\"\"\"\n",
        "import numpy as np\n",
        "import math\n",
        " \n",
        " \n",
        "\"\"\"\n",
        "Constants\n",
        "\"\"\"\n",
        "# 'C' is used in the UCT formula\n",
        "C = 2\n",
        "# Dimension of the board\n",
        "DIMENSIONS = 4\n",
        "# Number of tokens needed in a row to win\n",
        "K = 3\n",
        "\n",
        "\n",
        "if DIMENSIONS > 4 and DIMENSIONS < 7:\n",
        "  K = 4\n",
        "elif DIMENSIONS > 6:\n",
        "  K = 5\n",
        "else:\n",
        "  pass\n",
        "  \n"
      ],
      "execution_count": null,
      "outputs": []
    },
    {
      "cell_type": "markdown",
      "metadata": {
        "id": "Ize8jjnQi7DM"
      },
      "source": [
        "# Board Class"
      ]
    },
    {
      "cell_type": "code",
      "metadata": {
        "id": "XLRM3pb_i95A"
      },
      "source": [
        "class Board:\n",
        " \n",
        " \n",
        "  def __init__(self):\n",
        "    pass"
      ],
      "execution_count": null,
      "outputs": []
    },
    {
      "cell_type": "markdown",
      "metadata": {
        "id": "i8SjlLrRm7OM"
      },
      "source": [
        "# Node Class"
      ]
    },
    {
      "cell_type": "code",
      "metadata": {
        "id": "V-MptLDlgJ9l"
      },
      "source": [
        "class Node:\n",
        " \n",
        " \n",
        "  def __init__(self, board: Board, parent=None):\n",
        "    \"\"\"\n",
        "    Constructor for the Node class\n",
        "\n",
        "    Parameters:\n",
        "    board (Board): An instance of the board\n",
        "    parent (Node): The parent node of the current node\n",
        "    \"\"\"\n",
        "    # The number of wins through this node\n",
        "    self.v = 0\n",
        "    # The number of times the node has been rolled out\n",
        "    self.n = 0\n",
        "    # The parent Node\n",
        "    self.parent = parent\n",
        "    # The Game State\n",
        "    self.board = board\n",
        " \n",
        " \n",
        "  def calculate_uct_value(self):\n",
        "    \"\"\"\n",
        "    A method to calculate the UCT value for the node\n",
        "    \n",
        "    Returns:\n",
        "    int: Float\n",
        "    \"\"\"\n",
        "    # Check for 0 division\n",
        "    if self.n == 0:\n",
        "      # Return positive infinity\n",
        "      return np.inf\n",
        "    else:\n",
        "      # Return uct value for this node\n",
        "      return (self.v/self.n) + C * math.sqrt(np.log(self.parent.n)/self.n)"
      ],
      "execution_count": null,
      "outputs": []
    }
  ]
}
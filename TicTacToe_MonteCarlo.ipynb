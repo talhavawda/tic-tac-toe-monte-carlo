{
  "nbformat": 4,
  "nbformat_minor": 0,
  "metadata": {
    "colab": {
      "name": "TicTacToe-MonteCarlo.ipynb",
      "provenance": [],
      "collapsed_sections": [],
      "include_colab_link": true
    },
    "kernelspec": {
      "display_name": "Python 3",
      "name": "python3"
    },
    "language_info": {
      "name": "python"
    }
  },
  "cells": [
    {
      "cell_type": "markdown",
      "metadata": {
        "id": "view-in-github",
        "colab_type": "text"
      },
      "source": [
        "<a href=\"https://colab.research.google.com/github/talhavawda/tic-tac-toe-monte-carlo/blob/master/TicTacToe_MonteCarlo.ipynb\" target=\"_parent\"><img src=\"https://colab.research.google.com/assets/colab-badge.svg\" alt=\"Open In Colab\"/></a>"
      ]
    },
    {
      "cell_type": "markdown",
      "metadata": {
        "id": "iEsck8Dt-y9P"
      },
      "source": [
        "# Tic Tac Toe decision-making using Monte Carlo Tree Search\n",
        "\n",
        " ## COMP703 (Artificial Intelligence) 2021 Assignment 1\n",
        " \n",
        " Team: A1GroupWC\n",
        "\n",
        " Team Members:\n",
        " -  Azhar Mohamed&ensp;&ensp;&ensp;&ensp;&ensp;&ensp;&ensp;(218006491)\n",
        " - Yashlin Naidu &ensp;&ensp;&ensp;&ensp;&ensp;&ensp;&ensp;&ensp;&ensp;(216019492)\n",
        " - Ricardo Pillay &ensp;&ensp;&ensp;&ensp;&ensp;&ensp;&ensp;&ensp;&ensp;(218009114)\n",
        " - Ahmad Jawaad Shah&ensp;&ensp;&ensp;(218029400)\n",
        " - Talha Vawda &ensp;&ensp;&ensp;&ensp;&ensp;&ensp;&ensp;&ensp;&ensp;&ensp;(218023210)\n",
        "\n",
        "<br>\n",
        "\n",
        "## Acknowledgements and References\n",
        "1. Russell SJ, Norvig P. Artificial Intelligence: A Modern Approach. 4th ed. Upper Saddle River: Prentice-Hall; 2020.\n",
        "2. Kocsis L, Szepesvári C, Willemson J. Improved Monte-Carlo Search. 2006; Available from: https://www.semanticscholar.org/paper/Improved-Monte-Carlo-Search-Kocsis-Szepesvari/b2c20a877a891ea97179658c06a6d552b50cba6e\n",
        "3. Browne CB, Powley E, Whitehouse D, Lucas SM, Cowling PI, Rohlfshagen P, et al. A Survey of Monte Carlo Tree Search Methods. IEEE Transactions on Computational Intelligence and AI in Games [Internet]. 2012 Mar;4(1):1–43. Available from: https://ieeexplore.ieee.org/abstract/document/6145622\n",
        "4. Python. PEP 8 -- Style Guide for Python Code [Internet]. Python.org. 2001 [cited 2021 Sep 15]. Available from: https://www.python.org/dev/peps/pep-0008\n",
        "5. Stack Overflow. python - How do I check if a list is empty? [Internet]. Stack Overflow. 2008 [cited 2021 Sep 15]. Available from: https://stackoverflow.com/questions/53513/how-do-i-check-if-a-list-is-empty\n",
        "\n",
        "\n",
        "We declare that this entire implementation has been designed and developed by ourselves.   \n",
        "\n",
        "\n",
        "\n",
        "---\n",
        "\n"
      ]
    },
    {
      "cell_type": "markdown",
      "metadata": {
        "id": "lQJ45EXAfGnM"
      },
      "source": [
        "# Introduction and Background\n",
        "Our variant on Tic Tac Toe is one that is aimed to make the game more interesting. The original game involves of lining up 3 of the same type of token (X or O) on a row, column or diagonal, in a 3 by 3 grid in order to win. There are 3 types of tokens that are used in our variant: \"X\",\"Y\" and \"S\". The X and Y tokens are the player tokens (to be used by each of the 2 players) while the S tokens are universal tokens that are placed randomly on the board before the game commences. The S token may be used by either player as a their own in order to allow themselves to win the game faster. Measures have been taken to prevent the S tokens from giving an unfair advantage to 1 player. These include: not allowing S tokens to be placed in the same row and column, and also ensuring no to S tokens will be more less than 2 spaces away from each other on the diagonals. Our variant allows the game to played on the following square grid sizes: 4 by 4, 5 by 5, 6 by 6 and 7 by 7. Furthermore for a 4 by 4 grid you are only required to line up 3 of the same tokens on a row, column or diagonal to win. Similary, for a 5 by 5 and 6 by 6 grid, you are only required to line up 4 tokens and with a 7 by 7, you must line up 5 tokens to win. The tokens one lines up to win may consist of only 1 type of player token (X or Y) or 1 type of player token and an S token.\n"
      ]
    },
    {
      "cell_type": "markdown",
      "metadata": {
        "id": "yNcC5Ui70fq4"
      },
      "source": [
        "# Implementation\n",
        "\n",
        "Please run all code cells in order (on your first run) so that classes that  are used later on are 'compiled' and are accessible/existing before they are used.\n",
        "\n",
        "\n",
        "## Imports and constants\n",
        "This cell contains all the libraries that is needed to run this game.\n",
        " Furthermore, constant initializations are done here and will be used throughout the notebook."
      ]
    },
    {
      "cell_type": "code",
      "metadata": {
        "id": "W8ZxByJbgjIP"
      },
      "source": [
        "\"\"\"\n",
        "    Imports\n",
        "\"\"\"\n",
        "import numpy as np\n",
        "import math\n",
        "import copy\n",
        "import random\n",
        "\n",
        "\n",
        "\"\"\"\n",
        "    Constants\n",
        "\n",
        "    The constant C in the UCT formula:\n",
        "        We have used the theoretical optimal value of C is (sqrt(2) [1.414]). \n",
        "        We have experimented with our values but sqrt(2) appears to also be the\n",
        "        optimal value for our practical implementation that balances \n",
        "        Exploration and Exploitation ensuring the best move to make is returned\n",
        "        by every run of the MCTS algorithm\n",
        "        This constant will be used by Node.calculate_uct_value()\n",
        "\"\"\"\n",
        "C = math.sqrt(2)"
      ],
      "execution_count": null,
      "outputs": []
    },
    {
      "cell_type": "markdown",
      "metadata": {
        "id": "Ize8jjnQi7DM"
      },
      "source": [
        "## State class\n",
        "\n",
        "This class is used to represent a specific State of our Tic Tac Toe game variant, i.e. a game board with neutral and player tokens placed on it, the player (X or O) whose turn it is to play next on this board, and the move that was played by the opposite player on the previous board (of the previous game State) to result in this board. A move on a State results in a new State of the game with the turn now being passed onto the other player.\n",
        "\n",
        "A game board itself is represented using a 2D array of integer values, with each element in the array representing a square on the board. These integer values represent the token placed on the square or whether the square is empty.\n",
        "\n",
        "The move field of this class will be used by the MCTS algorithm to determine the best move for the current player to make on the current state of the game. \n",
        "\n"
      ]
    },
    {
      "cell_type": "code",
      "metadata": {
        "id": "XLRM3pb_i95A"
      },
      "source": [
        "class State:\n",
        "    \"\"\"\n",
        "        A Tic Tac Toe state for the Monte Carlo Tree Search Algorithm\n",
        "        \n",
        "        A State of the game is a specific board scenario, along with the player \n",
        "        whose turn it is to play next, and the move that was played on the \n",
        "        previous state to result in this state\n",
        "\n",
        "    \"\"\"\n",
        "\n",
        "\n",
        "    def __init__(self, board=None, turn=None, move=None):\n",
        "        \"\"\"\n",
        "            Constructor for the initial creation of a Tic Tac Toe State.\n",
        "\n",
        "            :param move: the move (a 2-tuple indicating the square) that was\n",
        "            performed on the previous state to reach this state by the opposite \n",
        "            player (the opposite player is -turn)\n",
        "        \"\"\"\n",
        "\n",
        "        if board != None:\n",
        "            # Create a board for an existing game state\n",
        "            self.board = board\n",
        "        else:\n",
        "            # Create the board for the initial game state\n",
        "            self.board = TicTacToeGame.initial_game_board()\n",
        "            self.turn = TicTacToeGame.X # this variable represents the player whose turn it is to play on this current state (current player) | X plays first on an initial board\n",
        "\n",
        "        if turn != None:\n",
        "            self.turn = turn # The player whose turn it is to currently play on this current state, either TicTacToeGame.X or TicTacToeGame.O\n",
        "        else:\n",
        "            #Determine whose turn it is by counting the number of X's and O's on the board. if X's==O's then X's turn otherwise O's\n",
        "            num_x = (np.array(self.board) == TicTacToeGame.X).sum()\n",
        "            num_y = (np.array(self.board) == TicTacToeGame.O).sum()\n",
        "            if num_x > num_y:\n",
        "              self.turn = TicTacToeGame.O\n",
        "            else:\n",
        "              self.turn = TicTacToeGame.X\n",
        "\n",
        "\n",
        "        self.move = move\n",
        "\n",
        "        \n",
        "    def toggle_turn(self, turn):\n",
        "        \"\"\"\n",
        "            Alternate:\n",
        "            if turn == TicTacToeGame.X:\n",
        "                return TicTacToeGame.O\n",
        "             else:\n",
        "                return = TicTacToeGame.O\n",
        "        \"\"\"\n",
        "\n",
        "        return -turn # since TicTacToeGame.X == -TicTacToeGame.O and vice versa\n",
        "\n",
        "\n",
        "    def turn_to_string(self):\n",
        "        if self.turn == TicTacToeGame.X:\n",
        "            return \"X\"\n",
        "        else:\n",
        "            return \"O\"\n",
        "        "
      ],
      "execution_count": null,
      "outputs": []
    },
    {
      "cell_type": "markdown",
      "metadata": {
        "id": "5dr6uO0jgega"
      },
      "source": [
        "## TicTacToeGame class\n",
        "\n",
        "Since a Tic Tac Toe game consists of a multitude of possible States, we have a class to represent an instance of a game itself - this TicTacToeGame class.\n",
        "\n",
        "An instance of this class represents a Tic Tac Toe game that is being played. This game is of our Tic Tac Toe variant and thus has its own dimensions, which is passed in as a parameter to the constructor, which then determines the number of tokens needed in a row to win, and also the number of neutral tokens that need to be randomly placed on the board (within certain constraints) before the game starts.\n",
        "\n",
        "This class defines constants that are used for the Tic Tac Toe game: \n",
        "These are of integer types, which represent the board tokens (X, O, S, EMPTY), and the game conditions (IN_PROGRESS, DRAW, WIN). The X and O constants also refer to the players themselves (whose turn it is to play) in addition to being tokens on the game board, as well as for specifying the WIN game condition (a win is represented by either X or O), and the utilty value of a terminal state (a state where the game has reached completetion - a draw or a win has been achieved). This makes it easy to determine the winner and calculte the utilty value of a terminal state. Furthermore,  X and O being 1 and -1 respectively makes it trivial to get the player whose turn it is of the resulting state when applying a move tho the current state, as we just have to negate the current state’s turn field. \n",
        "\n",
        "We have also defined MAX and MIN players (which are X and O respectively as X plays first) which shall be called by the Monte Carlo Tree Search function to dettermine the best move the current player should make.\n"
      ]
    },
    {
      "cell_type": "code",
      "metadata": {
        "id": "i5A_TuBS1WfV"
      },
      "source": [
        "class TicTacToeGame:\n",
        "    \"\"\" \n",
        "        A class that represents our variant of the Tic Tac Toe game\n",
        "        The purpose is to initialise a Tic Tac Toe game by creating a nxn square board\n",
        "        and placing the neutral tokens on it, and to hold the n, k, and neutral_tokens values\n",
        "\n",
        "\n",
        "        The board is being implemented as a nxn array with an index pair representing\n",
        "        a square on the board and the element values being either  2, 1, -1, 0 \n",
        "        to represent a neutral token, the X token, the O token, and an empty square (where\n",
        "        no token has been played yet)\n",
        "\n",
        "        We are having a specific game class as we are demonstrating various examples of Tic Tac Toe game scenarios\n",
        "        where different games could have a different size board, so we're going to need different game instances\n",
        "        representing different games with their boards to pass into the MCTS algorithm\n",
        "\n",
        "        An instance of this class (representing a game scenario) will be passed into the Monte Carlo Tree Search (MCTS) algorithm\n",
        "    \"\"\"\n",
        "\n",
        "    # Constants for a Tic Tac Toe game\n",
        "\n",
        "    X = 1  # Player/Token X\n",
        "    EMPTY = 0  # An empty square (no tokens placed on it yet)\n",
        "    O = -1  # Player/Token O\n",
        "    S = 2  # Neutral Token\n",
        "    \n",
        "    IN_PROGRESS = 3  # Game in progress\n",
        "    DRAW = 4  # Game over and game ended in draw\n",
        "    # WIN is represented by X and O constants\n",
        "\n",
        "    # MCTS uses Max and Min players\n",
        "    MAX = X # Player Max is the X token (as X plays first)\n",
        "    MIN = O\n",
        "\n",
        "\n",
        "    def __init__(self, n):\n",
        "        \"\"\"\n",
        "            :param n: Dimensions of the board - Since the board is a square board, the board will be an nxn board\n",
        "\n",
        "            k is the number of tokens needed in a row to win\n",
        "            neutral_tokens is the number of neutral tokens ('S') that the board will contain\n",
        "        \"\"\"\n",
        "        self.n = n\n",
        "        \n",
        "        self.k, self.neutral_tokens = self.get_k_and_nt(n)\n",
        "\n",
        "\n",
        "       \n",
        "\n",
        "    def get_k_and_nt(self,n):\n",
        "        \"\"\"\n",
        "           determines the k value and number of neutral tokens based on the size of the board specified by the user.\n",
        "\n",
        "           :return: a 1-D tuple of size 2 with k being the first element and neutral_tokens being the second element\n",
        "        \"\"\"\n",
        "\n",
        "        k = 0\n",
        "        neutral_tokens = 0\n",
        "\n",
        "        if n == 4:\n",
        "            k = 3\n",
        "            neutral_tokens = 1\n",
        "        elif n in [5, 6]:\n",
        "            k = 4\n",
        "            neutral_tokens = 2\n",
        "        elif n == 7:\n",
        "            k = 5\n",
        "            neutral_tokens = 3\n",
        "        else:\n",
        "            pass  # We've already covered all cases and validation of n will be done when getting input from the user\n",
        "        \n",
        "        return k, neutral_tokens\n",
        "\n",
        "\n",
        "\n",
        "    def check_in_diagonal(self, board, row, col):\n",
        "        \"\"\"\n",
        "            Check if there is at least 2 cells between every S token on a diagonal\n",
        "\n",
        "            :return: True if so else False \n",
        "        \"\"\"\n",
        "        temp_board = [[0 for i in range(self.n + 4)] for j in range(self.n + 4)]\n",
        "\n",
        "        for i in range(self.n):\n",
        "            for j in range(self.n):\n",
        "                temp_board[i + 2][j + 2] = board[i][j]\n",
        "\n",
        "        if (temp_board[row - 2 + 2][col - 2 + 2] == self.S or temp_board[row - 1 + 2][col - 1 + 2] == self.S or\n",
        "                temp_board[row + 2 + 2][col + 2 + 2] == self.S or temp_board[row + 1 + 2][col + 1 + 2] == self.S or\n",
        "                temp_board[row + 2 + 2][col - 2 + 2] == self.S or temp_board[row + 1 + 2][col - 1 + 2] == self.S or\n",
        "                temp_board[row - 2 + 2][col + 2 + 2] == self.S or temp_board[row - 1 + 2][col + 1 + 2] == self.S):\n",
        "            return True\n",
        "\n",
        "        else:\n",
        "            return False\n",
        "\n",
        "\n",
        "\n",
        "    def initial_game_board(self):\n",
        "        \"\"\"\n",
        "            Generate an initial board for the game with the neutral tokens (randomly) placed\n",
        "            on it, and return it.\n",
        "            No neutral token may be in the same row, column, or within 2 \n",
        "            squares on the same diagonal as any other neutral tokens\n",
        "\n",
        "            :return: An initial board of the game (the initial game state) as a 2D array\n",
        "        \"\"\"\n",
        "        board = [[self.EMPTY for i in range(self.n)] for j in range(self.n)]  # initialise a nxn board using Python List Comprehension\n",
        "\n",
        "        neutral_rows = []\n",
        "        neutral_cols = []\n",
        "        rand_row = 0\n",
        "        rand_col = 0\n",
        "\n",
        "        for m in range(self.neutral_tokens):\n",
        "            randRow = random.randint(0, self.n - 1)  # For randint(a, b) both bounds are inclusive i.e. range is [a, b]\n",
        "            randCol = random.randint(0, self.n - 1)\n",
        "\n",
        "            # While the coordinates of this square is not valid for a neutral token, generate new coordinates\n",
        "            # The condition of the while loop also checks if the current square position already has a neutral token placed on it\n",
        "            while (self.check_in_diagonal(board, rand_row, rand_col) or (rand_row in neutral_rows) or (rand_col in neutral_cols)):\n",
        "                rand_row = random.randint(0, self.n - 1)\n",
        "                rand_col = random.randint(0, self.n - 1)\n",
        "\n",
        "            board[rand_row][rand_col] =  self.S\n",
        "            neutral_rows.append(rand_row)\n",
        "            neutral_cols.append(rand_col)\n",
        "        \n",
        "        return board\n",
        "\n",
        "\n",
        "\n",
        "    def create_game_state(self, neutral_moves=None, players_moves=None):\n",
        "        \"\"\"\n",
        "            Create a game situation based on the actions given\n",
        "\n",
        "            :neutral_moves: a list of the squares on the board that the neutral tokens are placed on - each element\n",
        "                is a tuple of size 2 indicating the position of the square.  the length of this list must be equal to self.neutral_tokens.\n",
        "                If None then call self.initial_game_board() to randomly place the neutral tokens\n",
        "            :players_moves: moves that have already been played by both players - a list of tuples. Each tuple is of size 3.\n",
        "                For each tuple, the first element is the player whose turn it is (either X or Y), second element is the x coordinate of the square,\n",
        "                and the third element is the y coordinate. Ensure the coordinates are valid board positions\n",
        "            :return: a State of the game with its board populated with the specified actions/moved\n",
        "        \"\"\"\n",
        "\n",
        "        turn = self.X # Default - X plays first\n",
        "\n",
        "\n",
        "        if neutral_moves == None:\n",
        "            board = self.initial_game_board()\n",
        "        else:\n",
        "            board = [[self.EMPTY for i in range(self.n)] for j in range(self.n)]  # initialise a nxn board using Python List Comprehension\n",
        "\n",
        "            # Add neutral moves from neutral_moves\n",
        "            for i in range(len(neutral_moves)):\n",
        "                board[neutral_moves[i][0]][neutral_moves[i][1]] = self.S  # neutral_moves[i][0] is x-coordinate of that tuple and neutral_moves[i][1] is y-coordinate of that tuple\n",
        "\n",
        "        # Add the moves of the players\n",
        "        last_move = None\n",
        "        if players_moves != None:\n",
        "            for move in players_moves: # Each move is a 3-tuple   \n",
        "                player, x_coord, y_coord = move\n",
        "                board[x_coord][y_coord] = player\n",
        "                last_move = move\n",
        "\n",
        "            \"\"\"code to determine the player whose turn it is to play next on this current state\"\"\"\n",
        "            num_x = (np.array(board) == self.X).sum()\n",
        "            num_y = (np.array(board) == self.O).sum()\n",
        "\n",
        "            if num_x > num_y:\n",
        "                turn = self.O\n",
        "            else:\n",
        "                turn = self.X\n",
        "\n",
        "        return State(board, turn, move=last_move)\n",
        "\n",
        "\n",
        "    def moves(self, state):\n",
        "        \"\"\"\n",
        "            Determine all the actions/moves (x,y pairs) that can be played on the current board state\n",
        "            and return them\n",
        "\n",
        "            A move is an empty square that the current player can place their token on\n",
        "            (It doesn't matter who the current player is)\n",
        "\n",
        "            :return: a list of tuples, with each tuple being the position/coordinates of a square on the board\n",
        "        \"\"\"\n",
        "\n",
        "        board = state.board\n",
        "\n",
        "        # A list of tuples\n",
        "        moves = list()\n",
        "        board = state.board\n",
        "\n",
        "        for i in range(len(board)):\n",
        "            for j in range(len(board[i])):\n",
        "                # Check if the cell is empty\n",
        "                if board[i][j] == self.EMPTY:\n",
        "                    # Create a tuple holding a possible i, j move\n",
        "                    move_tuple = (i, j)\n",
        "                    # Add the tuple to the list\n",
        "                    moves.append(move_tuple)\n",
        "\n",
        "        return moves\n",
        "\n",
        "\n",
        "    def play_move(self, state, move):\n",
        "        \"\"\"\n",
        "            Play the specified action/move on this current state (resulting in a child state)\n",
        "            :return: a new State with the move having being played on it\n",
        "        \"\"\"\n",
        "        # Assumption: move is a tuple\n",
        "        # Play the move on this state\n",
        "        board = state.board\n",
        "        child_board = copy.deepcopy(board)\n",
        "        child_board[move[0]][move[1]] = state.turn\n",
        "\n",
        "        # Return a new state - updated board - updated turn\n",
        "        return State(board=child_board, turn=-state.turn, move=move)  # turn=-self.turn since TicTacToeGame.X == -TicTacToeGame.O and vice versa\n",
        "\n",
        "\n",
        "    def get_child_states(self, state):\n",
        "        \"\"\"\n",
        "            Generate and return all child states of this state with the current player being state.turn\n",
        "\n",
        "            Use this method for expansion\n",
        "\n",
        "            :return: a list of all child States of this state\n",
        "        \"\"\"\n",
        "\n",
        "        child_moves = self.moves(state)\n",
        "        board = state.board\n",
        "        child_states = list()\n",
        "\n",
        "        for move in child_moves:  # move is a tuple represeting the position/coordinates of a square on the board\n",
        "            child_board = copy.deepcopy(board)\n",
        "            i = move[0]\n",
        "            j = move[1]\n",
        "            child_board[i][j] = state.turn\n",
        "            child_states.append(State(board=child_board, turn=-state.turn, move=move))  # toggle/switch the current player\n",
        "\n",
        "\n",
        "        return child_states\n",
        "\n",
        "\n",
        "    def get_empty_squares(self, state):\n",
        "        \"\"\"\n",
        "            :return: a list of tuples, with each tuple representing the coordinates of an empty square on the board\n",
        "        \"\"\"\n",
        "\n",
        "        board = state.board\n",
        "        empty_squares = list()\n",
        "\n",
        "        for i in range(len(board)):\n",
        "            for j in range(len(board[i])):\n",
        "                if state.board[i][j] == self.EMPTY:\n",
        "                    empty_square = (i, j)  # (i, j) is a tuple\n",
        "                    empty_squares.append(empty_square)\n",
        "\n",
        "        return empty_squares\n",
        "\n",
        "\n",
        "    def display_state(self, state):\n",
        "        \"\"\"\n",
        "            Display the state's board to the console\n",
        "        \"\"\"\n",
        "\n",
        "        board = state.board\n",
        "        output = \"   \"\n",
        "        for k in range(len(board)):\n",
        "            output = output + str(k) + \" \"\n",
        "        print(output)\n",
        "        \n",
        "        for i in range(len(board)):\n",
        "            line = str(i)+\" \"\n",
        "            for j in range(len(board[i])):\n",
        "                character = board[i][j]\n",
        "                if character == self.EMPTY:\n",
        "                    character = '_'\n",
        "                elif character == self.X:\n",
        "                    character = 'X'\n",
        "                elif character == self.O:\n",
        "                    character = 'O'\n",
        "                else:\n",
        "                    character = 'S'\n",
        "                line += \"|\" + str(character)\n",
        "            line += \"|\"\n",
        "            print(line)\n",
        "\n",
        "\n",
        "    def check_game_over(self, state):\n",
        "        \"\"\"\n",
        "            Determines whether the game is over or not for this state and \n",
        "            returns whether the game is over or not, the winner (or lack of one)\n",
        "            and the utilty (score/value) of this (terminal) state\n",
        "\n",
        "            The game is over if either X won, O won, or game is a draw\n",
        "            If the game is over, then this state is a terminal state\n",
        "\n",
        "            Utility value is 1 if X won, -1 if O won, 0.5 if there is a draw, \n",
        "            or 0 if this state is not a terminal state (the game is currently in progress)\n",
        "\n",
        "            :return: a (is_terminal_state, winner, utilty) tuple \n",
        "        \"\"\"\n",
        "\n",
        "        # Default - game is not over - currently in progress \n",
        "        is_terminal_state = False\n",
        "        winner = self.IN_PROGRESS \n",
        "        utility = 0\n",
        "\n",
        "\n",
        "        if self.check_k_win(state):\n",
        "            # If either player has won\n",
        "            is_terminal_state = True\n",
        "            winner = -state.turn # The winner is the player who made the move to reach this current state\n",
        "            utility = winner      # TicTacToeGame.X is represented by 1 and TicTacToeGame.O is represented by -1 so the corresponding value for the winner will be returned\n",
        "\n",
        "        elif not self.moves(state): \n",
        "            # Alternate elif condition: np.array(self.board == self.EMPTY)).sum() == 0\n",
        "            \"\"\"\n",
        "                If the game is a draw:\n",
        "                If no more moves can be made of the board (if the list returned\n",
        "                by moves() is empty) i.e. all squares have been filled with tokens\n",
        "            \"\"\"\n",
        "            is_terminal_state = True\n",
        "            winner = self.DRAW\n",
        "            utility = 0.5\n",
        "        else:\n",
        "            pass # Default values will remain\n",
        "\n",
        "\n",
        "        return is_terminal_state, winner, utility\n",
        "\n",
        "\n",
        "    \n",
        "    def check_k_win(self,state):\n",
        "        \"\"\"\n",
        "            Determines if a state is a win state or not. m is based on the size of k and is used\n",
        "            to produce a padded matrix tempMatrix, that has m layers of empty spaces/ or 0's around the state board matrix.\n",
        "            Produces a tempMatrix which is the state board, but it is padded with a layer of zeros\n",
        "            or empty spaces. This method loops through the entire state board and\n",
        "            checks each row, column and positive diagonal and negative diagonal (using auxillary functions) for k tokens of the same type including or excluding\n",
        "            an S token.\n",
        "\n",
        "            :return: true if win state, else return false\n",
        "        \"\"\"\n",
        "        stateBoard = state.board\n",
        "         \n",
        "\n",
        "        m = math.ceil(self.k / 2)\n",
        "        tempMatrix = [[0 for i in range(self.n + (m * 2))] for j in range(self.n + (m * 2))]\n",
        "        for i in range(self.n):\n",
        "            for j in range(self.n):\n",
        "                tempMatrix[i + m][j + m] = stateBoard[i][j]\n",
        "        \n",
        "        for i in range(len(state.board)):\n",
        "            for j in range(len(state.board[i])):\n",
        "                if (self.check_vertical_k_win(tempMatrix,state.board, i, j, -state.turn, m) or self.check_horizontal_k_win(tempMatrix,state.board, i, j, -state.turn, m) \n",
        "                or self.check_negative_diagonal_k_win(tempMatrix,state.board, i, j, -state.turn, m) or self.check_positive_diagonal_k_win(tempMatrix,state.board, i, j, -state.turn, m)):\n",
        "                    return True\n",
        "        return False\n",
        "\n",
        "   \n",
        "    def check_vertical_k_win(self,tempMatrix ,matrix, row, col, token, n):\n",
        "        \"\"\"\n",
        "            Given the board co-ordinate (row, col), it counts vertically for consecutive k tokens of the same type on the padded board matrix - tempMatrix, \n",
        "            including or excluding an S token. sArray is an array that consists of all the tokens\n",
        "            found on the vertical. count is the number of consecutive vertical tokens in a column and countS is used the case where S is the first token in a sequence\n",
        "            and counts the number of consecutive tokens only if the same token is repeated after S.\n",
        "\n",
        "            :return: true if k tokens found consecutively in a column from co-ordinate (row, col), else return false\n",
        "        \"\"\"\n",
        "        count = 0\n",
        "        countS = 0\n",
        "        sArray = []\n",
        "        sArray.append(token)\n",
        "        \n",
        "        rows = self.n\n",
        "        cols = self.n\n",
        "        k = self.k\n",
        "\n",
        "        if row <= rows-2:\n",
        "            for l in range(k):\n",
        "            \n",
        "                    if ((tempMatrix[row + n + l][col + n] == token) or (tempMatrix[row + n + l][col + n] == TicTacToeGame.S)):\n",
        "                        count = count + 1\n",
        "                    elif (token == TicTacToeGame.S):\n",
        "                        if (len(sArray) == 1):\n",
        "                            sArray.append(tempMatrix[row + n + l][col + n])\n",
        "                        if (tempMatrix[row + n + l][col + n] in sArray):\n",
        "                            countS = countS + 1\n",
        "                        else:\n",
        "                            countS = 0\n",
        "                \n",
        "\n",
        "        if (count == k or countS == k):\n",
        "                return True\n",
        "        return False\n",
        "\n",
        "\n",
        "    def check_horizontal_k_win(self,tempMatrix ,matrix, row, col, token,n):\n",
        "        \"\"\"\n",
        "            Given the board co-ordinate (row, col), it counts horizontally for consecutive k tokens of the same type on the padded board matrix - tempMatrix, \n",
        "            including or excluding an S token. sArray is an array that consists of all the tokens\n",
        "            found on the horizontal. count is the number of consecutive horizontal tokens in a row and countS is used the case where S is the first token in a sequence\n",
        "            and counts the number of consecutive tokens only if the same token is repeated after S.\n",
        "\n",
        "\n",
        "            :return: true if k tokens found consecutively in a row from co-ordinate (row, col), else return false\n",
        "        \"\"\"\n",
        "        count = 0\n",
        "        countS = 0\n",
        "        sArray = []\n",
        "        sArray.append(token)\n",
        "\n",
        "        rows = self.n\n",
        "        cols = self.n\n",
        "        k = self.k\n",
        " \n",
        "        if col <= cols-2:\n",
        "           \n",
        "                for l in range(k):\n",
        "                    if ((tempMatrix[row + n][col + n + l] == token) or (tempMatrix[row + n][col + n + l] == TicTacToeGame.S)):\n",
        "                        count = count + 1\n",
        "                    elif (token == TicTacToeGame.S):\n",
        "                        if (len(sArray) == 1):\n",
        "                            sArray.append(tempMatrix[row + n][col + n + l])\n",
        "                        if (tempMatrix[row + n][col + n + l] in sArray):\n",
        "                            countS = countS + 1\n",
        "                        else:\n",
        "                            countS = 0\n",
        "            \n",
        "\n",
        "        if (count == k or countS == k):\n",
        "                    return True\n",
        "        return False\n",
        "\n",
        "\n",
        "    def check_negative_diagonal_k_win(self,tempMatrix ,matrix, row, col, token, n):\n",
        "        \"\"\"\n",
        "            Given the board co-ordinate (row, col), it counts the negative diagonal for consecutive k tokens of the same type on the padded board matrix - tempMatrix, \n",
        "            including or excluding an S token. sArray is an array that consists of all the tokens\n",
        "            found on the negative diagonal. count is the number of consecutive negative diagonal tokens and countS is used the case where S is the first token in a sequence\n",
        "            and counts the number of consecutive tokens only if the same token is repeated after S or is S.\n",
        "\n",
        "            :return: true if k tokens found consecutively in the negative diagonal from co-ordinate (row, col), else return false\n",
        "        \"\"\"\n",
        "        count = 0\n",
        "        countS = 0\n",
        "        sArray = []\n",
        "        sArray.append(token)\n",
        "\n",
        "        rows = self.n\n",
        "        cols = self.n\n",
        "        k = self.k\n",
        "\n",
        "        if row <= rows - 2 and col <= cols-2:\n",
        "            for l in range(k):\n",
        "               \n",
        "                    if ((tempMatrix[row + n + l][col + n + l] == token) or (tempMatrix[row + n + l][col + n + l] == TicTacToeGame.S)):\n",
        "                        count = count + 1\n",
        "                    elif (token == TicTacToeGame.S):\n",
        "                        if (len(sArray) == 1):\n",
        "                            sArray.append(tempMatrix[row + n + l][col + n + l])\n",
        "                        if (tempMatrix[row + n + l][col + n + l] in sArray):\n",
        "                            countS = countS + 1\n",
        "                        else:\n",
        "                            countS = 0\n",
        "                \n",
        "\n",
        "        if (count == k or countS == k):\n",
        "                    return True\n",
        "        return False\n",
        "\n",
        "\n",
        "    def check_positive_diagonal_k_win(self,tempMatrix ,matrix, row, col, token, n):\n",
        "        \"\"\"\n",
        "            Given the board co-ordinate (row, col), it counts the positive diagonal consecutive for k tokens of the same type on the padded board matrix - tempMatrix, \n",
        "            including or excluding an S token. sArray is an array that consists of all the tokens\n",
        "            found on the negative diagonal. count is the number of consecutive positive diagonal tokens and countS is used the case where S is the first token in a sequence\n",
        "            and counts the number of consecutive tokens only if the same token is repeated after S or is S.\n",
        "\n",
        "\n",
        "            :return: true if k tokens found consecutively in the positive diagonal from co-ordinate (row, col), else return false\n",
        "        \"\"\"\n",
        "        count = 0\n",
        "        countS = 0\n",
        "        sArray = []\n",
        "        sArray.append(token)\n",
        "\n",
        "        rows = self.n\n",
        "        cols = self.n\n",
        "        k = self.k\n",
        "\n",
        "        if row <= rows - 2 and col <= cols-2:\n",
        "            for l in range(k):\n",
        "                \n",
        "                    if ((tempMatrix[row + n - l][col + n + l] == token) or (tempMatrix[row + n - l][col + n + l] == TicTacToeGame.S)):\n",
        "                        count = count + 1\n",
        "                    elif (token == TicTacToeGame.S):\n",
        "                        if (len(sArray) == 1):\n",
        "                            sArray.append(tempMatrix[row + n - l][col + n + l])\n",
        "                        if (tempMatrix[row + n - l][col + n + l] in sArray):\n",
        "                            countS = countS + 1\n",
        "                        else:\n",
        "                            countS = 0\n",
        "                \n",
        "\n",
        "        if (count == k or countS == k):\n",
        "                    return True\n",
        "        \n",
        "        return False\n",
        "\n",
        "\n",
        "\n"
      ],
      "execution_count": null,
      "outputs": []
    },
    {
      "cell_type": "markdown",
      "metadata": {
        "id": "i8SjlLrRm7OM"
      },
      "source": [
        "## Node Class\n",
        "\n",
        "[The root node of the tree is the current game state on which we want to decide the best move to make]\n",
        "\n",
        "\n",
        "Node class for adversarial game: \n",
        "\n",
        "Option 1 (this is what sir mentions in notes): have 2 separate win counters, one for player 1 (Max) and one for player 2 (Min) and the one that is used to calculate UCT value is the player who's turn it is to currently play (Me: in state 0 - the initial state of the algo - the current state of the game). So if terminal value is positive then increment Player 1's score, else if negative then increment Player 2's score with the absolutve value of the terminal value. (We can also increment both players' scores (with half the value of a win - if win=1 then draw =0.5 for both players) if there is a draw). \n",
        "[AIMA mentions about having a vector of values per node for multiplayer games]\n",
        "\n",
        "Option 2: have 1 score value, higher value indiciating preference to Max and lower value indicating preference to Min (thus value can go negative). So algo selects the node with either the best or worst UCT value depending on who's turn it is\n",
        "\n",
        "Option 3 (See: https://en.wikipedia.org/wiki/Monte_Carlo_tree_search#Principle_of_operation): have 1 score/value counter for each node, and that score reperesents the player that that node represents. So when backpropagating, we update every alternate ascendant node with the score (the start of the alternation depends on whether the leaf node that was rolled out resulted in a win/loss for the player that that lead node represents). (So if selecting a child node, then the current node will have to choose the child with the minimum value as the values of the children represent that of the opposite player)\n",
        "[This option is similar to Option 1]\n",
        "\n",
        "\n",
        "Going with Option 1\n",
        "\n",
        "Modelling: use MaxV and MinV for the scores of the 2 players in the Node representation. Max is the X token (the player who plays the first move of the game) and Min is the O token\n",
        "\n",
        "\n",
        "calculate_uct_value_() explanation (also see its docstring):\n",
        "\n",
        "in select_best__child() for the current node, we calculating the uct of each of its child nodes and selecting the one that has the highest uct value.\n",
        "But the node that has the highest uct value needs to be in terms of this node - the player of this current node's state whose turn it is to make a move. cos we want to select the best move that this current player should play.\n",
        "\n",
        "So when calculating the child node that has the highest uct value, it needs to be in terms of the player of this current node.\n",
        "\n",
        "say the current node is X's turn to play. we want to select a child node of X (all of which are O's turn to play) that is the best move for x - so we want to get the node that has the max wins for X in the rollouts\n",
        "\n",
        "all of the child nodes are O's turns. so when calcuating uct of the child node, we use the player of the parent node, which is X. and vice versa if current node is O's turn to play\n"
      ]
    },
    {
      "cell_type": "code",
      "metadata": {
        "id": "V-MptLDlgJ9l"
      },
      "source": [
        "class Node:\n",
        "    \"\"\"\n",
        "        A node for the Monte Carlo Tree Search algorithm, that is based on \n",
        "        a Tic Tac Toe State\n",
        "     \"\"\"\n",
        " \n",
        " \n",
        "    def __init__(self, state: State, parent=None):\n",
        "        \"\"\"\n",
        "            Constructor for the Node class\n",
        "\n",
        "            Parameters:\n",
        "            :param state (State): An instance of the state of the game\n",
        "            :param parent (Node): The parent node of the current node\n",
        "        \"\"\"\n",
        "\n",
        "        # The number of wins for player Max through this node\n",
        "        self.Max_V = 0\n",
        "\n",
        "        # The number of wins for player Min through this node\n",
        "        self.Min_V = 0\n",
        "\n",
        "        # The number of times the node (or its children) has been rolled out\n",
        "        self.n = 0\n",
        "\n",
        "        # The parent Node\n",
        "        self.parent = parent\n",
        "\n",
        "        # The Game State\n",
        "        self.state = state\n",
        "\n",
        "        # Chilren Nodes\n",
        "        self.children = list()\n",
        "    \n",
        "\n",
        "    def calculate_uct_value(self):\n",
        "        \"\"\"\n",
        "            Calculate and return the UCT value of this node based on the player whose turn it is \n",
        "            in the state of the parent node of this node\n",
        "\n",
        "            We are using the player of the parent node's state instead of the player\n",
        "            of this node's state as this node's state is a result of the player\n",
        "            of the parent node's state making a move, and the UCT value will be used\n",
        "            to determine the quality of the move from the parent nodes perspective.\n",
        "\n",
        "        \n",
        "            :return: uct: Float\n",
        "        \"\"\"\n",
        "\n",
        "       \n",
        "        if self.n == 0:  # Check for 0 division\n",
        "            # Return positive infinity (This node must be set to a high priority for Exploration)\n",
        "            return np.inf\n",
        "        else:\n",
        "            v = 0\n",
        "\n",
        "            parent_turn = -self.state.turn # Get the player whose turn it was in the State of the parent node of this node\n",
        "\n",
        "            \"\"\" \n",
        "                Alternatively we could've used self.parent.state.turn instead of calculating\n",
        "                parent_turn. However the root node of the tree doesn't have a parent node so calling\n",
        "                this function on it will give an error. So toggling the turn\n",
        "                is doing some validation checking in case calculate_uct_value() is ever\n",
        "                called on the parent node (although in our MCTS algorithm, that won't happen, as \n",
        "                the UCT value calculation is only called on children nodes of a node) - the\n",
        "                turn of the previous state of the parent node (current state of the game) will be used\n",
        "                as Tic Tac Toe has 2 players who alternate on every move. \n",
        "            \"\"\"\n",
        "            if parent_turn == TicTacToeGame.X:\n",
        "                v = self.Max_V # Player Max is X\n",
        "            else:\n",
        "                v = self.Min_V # Player Min is Y\n",
        "\n",
        "\n",
        "            # Return uct value for this node (based on its parent node's state's current player)\n",
        "            return (v/self.n) + C * math.sqrt(np.log(self.parent.n)/self.n)\n",
        "\n",
        "\n",
        "    def select_best_child(self):\n",
        "        \"\"\"\n",
        "            Determine the best child node of this node\n",
        "\n",
        "            :return: best_child: Node\n",
        "        \"\"\"\n",
        "        max_uct = -math.inf # Initialise to lowest possible number\n",
        "        best_child = None\n",
        "        for child in self.children:\n",
        "            uct_value = child.calculate_uct_value()\n",
        "            if uct_value > max_uct:\n",
        "                max_uct = uct_value\n",
        "                best_child = child\n",
        "        return best_child\n",
        "\n",
        "\n",
        "    def to_string(self):\n",
        "        output = \"Node Summary\\nNumber of wins through this node: {}\\nNumber of visits: {}\\nUCT value = {}\".format(self.v, self.n, self.calculate_uct_value())\n",
        "        return output"
      ],
      "execution_count": null,
      "outputs": []
    },
    {
      "cell_type": "markdown",
      "metadata": {
        "id": "FPTE9klft2wn"
      },
      "source": [
        "## Monte Carlo Tree Search\n",
        "\n",
        "AIMA: When the iterations terminate, the move with the highest number of Playouts/Rollouts is returned. You might think that it would be better to return the node with the highest average utility, but the idea is that a node with 65/100 wins is better than one with 2/3 wins, because the latter has a lot of uncertainty. In any event, the UCB1 formula ensures that the node with the most playouts is almost always the node with the highest win percentage, because the selection process favors win percentage more and more as the number of playouts goes up.\n",
        "\n",
        "\n",
        "At the end, number of rollouts on the root node = number of iterations,\n",
        "as for each iteration, the result propagates back to the root node\n"
      ]
    },
    {
      "cell_type": "code",
      "metadata": {
        "id": "ELVg_DmH0Wao"
      },
      "source": [
        "def monte_carlo_tree_search(game, state, iterations=100):\n",
        "    \"\"\"\n",
        "        Conduct the MCTS from the given state (the state that is passed in)\n",
        "        Return the best move to make on the state passed in (the current state of the game)\n",
        "        along with its resulting state\n",
        "    \"\"\"\n",
        "\n",
        "    # Child/Sub Functions\n",
        "\n",
        "    def add_child_nodes(node):\n",
        "        \"\"\"\n",
        "            Create children nodes of this node and add it to the node as its children\n",
        "        \"\"\"\n",
        "\n",
        "        state = node.state\n",
        "        child_states = game.get_child_states(state)\n",
        "        node.children = list() # initialise to an empty list\n",
        "        \n",
        "        if child_states: # if the child_states list is not empty\n",
        "            for child_state in child_states:\n",
        "                node.children.append(Node(child_state, parent=node)) # add child state as a child node to this current node\n",
        "\n",
        "\n",
        "    def random_move(state):\n",
        "        \"\"\"\n",
        "            Randomly select an action/move from all the possible moves that\n",
        "            can be made on this state and return it\n",
        "\n",
        "            :returns: random_move: A tuple (i, j) to place a move\n",
        "        \"\"\"\n",
        "\n",
        "        possible_moves = game.moves(state)\n",
        "        option = random.randint(0, len(possible_moves)-1)\n",
        "        random_move = possible_moves[option]\n",
        "        return random_move\n",
        "\n",
        "\n",
        "    def simulate(state, move):\n",
        "        \"\"\"\n",
        "            Apply a random action on the state\n",
        "\n",
        "            Return:\n",
        "            new_state: State\n",
        "        \"\"\"\n",
        "\n",
        "        new_state = game.play_move(state, move)\n",
        "        return new_state\n",
        "\n",
        "\n",
        "    def rollout(state):\n",
        "\n",
        "        while True:\n",
        "            \n",
        "            is_terminal_state, winner, utility = game.check_game_over(state)\n",
        "            \n",
        "            if is_terminal_state:\n",
        "                return winner, utility\n",
        "\n",
        "            action = random_move(state)\n",
        "            state = simulate(state, action)\n",
        "\n",
        "\n",
        "    def backpropagate(node, winner, result):\n",
        "        \"\"\"\n",
        "            :param node: the node that rollout was done on and to start backpropagating\n",
        "                the result from\n",
        "            :param winner: the winner value returned by check_game_over()\n",
        "            :param result: the utility value returned by check_game_over()\n",
        "        \"\"\"\n",
        "\n",
        "        while node.parent != None:\n",
        "            \n",
        "            node.n += 1\n",
        "\n",
        "            if winner == game.DRAW:\n",
        "                node.Max_V += result\n",
        "                node.Min_V += result\n",
        "            elif winner == game.MAX:\n",
        "                node.Max_V += result\n",
        "            else: # if winner == game.MIN\n",
        "                node.Min_V += result\n",
        "\n",
        "            node = node.parent\n",
        "\n",
        "        # Do for root node (parent==None)\n",
        "        node.n += 1\n",
        "\n",
        "        if winner == game.DRAW:\n",
        "            node.Max_V += result\n",
        "            node.Min_V += result\n",
        "        elif winner == game.MAX:\n",
        "            node.Max_V += result\n",
        "        else: # if winner == game.MIN\n",
        "            node.Min_V += result\n",
        "\n",
        "\n",
        "    root_node = Node(state)\n",
        "    count = 0\n",
        "  \n",
        "    while count < iterations:\n",
        "        #print(\"Iteration:\", count+1)\n",
        "        current = root_node # reset current for this new iteration - point back to the root node of the tree\n",
        "\n",
        "        \"\"\"\n",
        "            While current is not a leaf node (has children nodes), get the best child of current.\n",
        "            Stop when current is a leaf node (doesn't have any children)\n",
        "\n",
        "            current.children will evaluate to true if the children list is\n",
        "            not empty (current has children nodes), and will evaluate to false\n",
        "            if the children list is empty (current doesn't have any children\n",
        "            nodes -> current is a leaf node)\n",
        "\n",
        "        \"\"\"\n",
        "\n",
        "        # Tree Traversal: while current is not a leaf node\n",
        "        #current.children will evaulate to True if the children list is not empty else False\n",
        "        while current and current.children: \n",
        "            #print(game.display_state(current.state))\n",
        "            current = current.select_best_child()\n",
        "\n",
        "        # current is now a leaf node (doesn't have any children)\n",
        "        is_terminal_state, winner, utility = game.check_game_over(current.state)\n",
        "        \n",
        "        # if the state of the current node is a terminal state, then return its utilty (already calculated above)\n",
        "        # if current.n == 0  then its utility will be returned anyway in rollout()\n",
        "        # but if current.n != 0 there will be an issue as this node will not have any child nodes\n",
        "        # and we'll be accessing the first child node of this node\n",
        "        if not is_terminal_state: # if the state of the current (leaf) node is not a terminal state \n",
        "            if current.n == 0:\n",
        "                winner, utility = rollout(current.state)\n",
        "            else:\n",
        "                add_child_nodes(current)\n",
        "                #current = current.select_best_child()\n",
        "                current = current.children[0] # First new child node\n",
        "                winner, utility = rollout(current.state)\n",
        "        backpropagate(current, winner, utility)\n",
        "        count = count + 1\n",
        "\n",
        "    # Return best action/move to make\n",
        "    # AIMA: When the iterations terminate, the move with the highest number of Playouts/Rollouts is returned\n",
        "    max_rollouts = 0\n",
        "    best_move = None\n",
        "    resultant_state = None\n",
        "\n",
        "    rollouts_children_string = \"Number of rollouts on chidren of root node (representing current state of the game):\\n\\t\"\n",
        "    for child in root_node.children:\n",
        "        rollouts = child.n\n",
        "        rollouts_children_string += str(rollouts) + \", \"\n",
        "        if rollouts > max_rollouts:\n",
        "            max_rollouts = rollouts\n",
        "            best_move = child.state.move\n",
        "            #print(best_move.state.board)\n",
        "            resultant_state = child.state\n",
        "    \n",
        "    rollouts_children_string += \"\\n\"\n",
        "    print(rollouts_children_string)\n",
        "\n",
        "    return best_move, resultant_state, max_rollouts\n",
        "\n",
        "\n",
        "\n",
        "\n",
        "\n"
      ],
      "execution_count": null,
      "outputs": []
    },
    {
      "cell_type": "markdown",
      "metadata": {
        "id": "el76DE9V1hte"
      },
      "source": [
        "# Examples\n",
        "The following examples will demonstrate our implementation of the Monte Carlo Tree Search(MCTS) algorithm on our variant of the Tic Tac Toe game. Each example contains an initial state and displays the next best state for the player.\n",
        "\n"
      ]
    },
    {
      "cell_type": "code",
      "metadata": {
        "id": "6YvfmUw31-1y"
      },
      "source": [
        "# For ease of access by the examples below\n",
        "X = TicTacToeGame.X\n",
        "O = TicTacToeGame.O\n",
        "\n",
        " \n",
        "def get_num_iterations(game):\n",
        "    \"\"\"\n",
        "        Number of iterations that the MCTS algorithm should perform based on the game.\n",
        "        The larger the board, the more iterations needed as the number of possible state\n",
        "        permutations increases exponentially:\n",
        "            n = 4: board size = 16 & permutations = 16! = 2.09x10^13\n",
        "            n = 5: board size = 25 & permutations = 25! = 1.55x10^25\n",
        "            n = 6: board size = 36 & permutations = 36! = 3.72x10^41\n",
        "            n = 7: board size = 49 & permutations = 49! = 6.08x10^62\n",
        "\n",
        "        For out Tic Tac Toe variant game, the number of iterations will be as follows:\n",
        "        4x4 board = 6000 iterations \n",
        "        5x5 board = 10000 iterations\n",
        "        6x6 board = 24500 iterations\n",
        "        7x7 board = 32000 iterations\n",
        "    \"\"\"\n",
        "    if game.n in [4, 5]:\n",
        "        return game.n * (game.n-1) * 500\n",
        "    else:\n",
        "        return (game.n+1) * (game.n+1) * 500\n",
        "            "
      ],
      "execution_count": null,
      "outputs": []
    },
    {
      "cell_type": "markdown",
      "metadata": {
        "id": "YkbiqfxC18iF"
      },
      "source": [
        "## Example 1: 4x4 Ex 1\n",
        "This example features a 4x4 board on which, one neutral token, two X tokens and one O token has been placed. It is O's turn to play. Looking at the current game state, there are not many decisve moves that can be made, however; O should play a move that will positively impact its winning chnaces in the long run."
      ]
    },
    {
      "cell_type": "code",
      "metadata": {
        "id": "YVczpwdhCNoV",
        "colab": {
          "base_uri": "https://localhost:8080/"
        },
        "outputId": "fd2492ea-1fd6-411b-f11e-b70ad750f0ad"
      },
      "source": [
        "game = TicTacToeGame(4)\n",
        "current_state = game.create_game_state(neutral_moves=[(0,0)], \n",
        "                                       players_moves=[(X,3,0),(O,3,3),(X,1,2)])\n",
        "\n",
        "player = current_state.turn_to_string()                                       \n",
        "print(\"\\nCurrent State of the game:\\n\")\n",
        "game.display_state(current_state)\n",
        "print(\"\\nTurn:\", player)\n",
        "print()"
      ],
      "execution_count": null,
      "outputs": [
        {
          "output_type": "stream",
          "name": "stdout",
          "text": [
            "\n",
            "Current State of the game:\n",
            "\n",
            "   0 1 2 3 \n",
            "0 |S|_|_|_|\n",
            "1 |_|_|X|_|\n",
            "2 |_|_|_|_|\n",
            "3 |X|_|_|O|\n",
            "\n",
            "Turn: O\n",
            "\n"
          ]
        }
      ]
    },
    {
      "cell_type": "code",
      "metadata": {
        "colab": {
          "base_uri": "https://localhost:8080/"
        },
        "id": "_m2e7jRCIbR8",
        "outputId": "3a42222e-be3d-405a-dd8e-469eb4bb4083"
      },
      "source": [
        "print(\"Running the Monte Carlo Tree Search Algorithm to find the best move to make on the current state\")\n",
        "print(\"================================================================================================\")\n",
        "\n",
        "num_iterations = get_num_iterations(game)\n",
        "best_move, resultant_state, max_rollouts = monte_carlo_tree_search(game, current_state, num_iterations)\n",
        "print(\"Best move to make for \", player, \": \", best_move,  sep=\"\")\n",
        "print(\"\\nResultant State:\")\n",
        "game.display_state(resultant_state)\n",
        "print(\"\\nNumber of rollouts on this state (out of a total of\", num_iterations, \"rollouts):\", max_rollouts)\n",
        "\n",
        "print(\"\")"
      ],
      "execution_count": null,
      "outputs": [
        {
          "output_type": "stream",
          "name": "stdout",
          "text": [
            "Running the Monte Carlo Tree Search Algorithm to find the best move to make on the current state\n",
            "================================================================================================\n",
            "Number of rollouts on chidren of root node (representing current state of the game):\n",
            "\t156, 224, 3730, 217, 153, 270, 118, 249, 209, 193, 308, 172, \n",
            "\n",
            "Best move to make for O: (0, 3)\n",
            "\n",
            "Resultant State:\n",
            "   0 1 2 3 \n",
            "0 |S|_|_|O|\n",
            "1 |_|_|X|_|\n",
            "2 |_|_|_|_|\n",
            "3 |X|_|_|O|\n",
            "\n",
            "Number of rollouts on this state (out of a total of 6000 rollouts): 3730\n",
            "\n"
          ]
        }
      ]
    },
    {
      "cell_type": "markdown",
      "metadata": {
        "id": "As5UgRH4Cnt9"
      },
      "source": [
        "## Example 2: 4x4 Ex 2\n",
        "This example features a 4x4 board on which there is a clear oppotunity for X to set up a two way trap to win. Ideally X should play its token at row 2 column 1 which will result in possible winning states arising. \n",
        "\n",
        "As a result of X playing its token at row 2 column 1, it opens up winning oppotunities at Row 1 Column 2 and Row 3 Column 1\n",
        " "
      ]
    },
    {
      "cell_type": "code",
      "metadata": {
        "colab": {
          "base_uri": "https://localhost:8080/"
        },
        "id": "P9_JOpciCmuW",
        "outputId": "87e60a7d-4933-4df0-9e89-419fecbeac6b"
      },
      "source": [
        "game = TicTacToeGame(4)\n",
        "current_state = game.create_game_state(neutral_moves=[(1, 1)], \n",
        "                                       players_moves=[(X, 3, 0), (O, 3, 2), \n",
        "                                                     (X, 0, 3), (O, 3, 3)])\n",
        "\n",
        "player = current_state.turn_to_string()                                       \n",
        "print(\"\\nCurrent State of the game:\\n\")\n",
        "game.display_state(current_state)\n",
        "print(\"\\nTurn:\", player)\n",
        "print()"
      ],
      "execution_count": null,
      "outputs": [
        {
          "output_type": "stream",
          "name": "stdout",
          "text": [
            "\n",
            "Current State of the game:\n",
            "\n",
            "   0 1 2 3 \n",
            "0 |_|_|_|X|\n",
            "1 |_|S|_|_|\n",
            "2 |_|_|_|_|\n",
            "3 |X|_|O|O|\n",
            "\n",
            "Turn: X\n",
            "\n"
          ]
        }
      ]
    },
    {
      "cell_type": "code",
      "metadata": {
        "colab": {
          "base_uri": "https://localhost:8080/"
        },
        "id": "N4kiJYLAJdGa",
        "outputId": "d0230888-f508-4847-c119-15b3e93434b3"
      },
      "source": [
        "print(\"Running the Monte Carlo Tree Search Algorithm to find the best move to make on the current state\")\n",
        "print(\"================================================================================================\")\n",
        "\n",
        "num_iterations = get_num_iterations(game)\n",
        "best_move, resultant_state, max_rollouts = monte_carlo_tree_search(game, current_state, num_iterations)\n",
        "print(\"Best move to make for \", player, \": \", best_move,  sep=\"\")\n",
        "print(\"\\nResultant State:\")\n",
        "game.display_state(resultant_state)\n",
        "print(\"\\nNumber of rollouts on this state (out of a total of\", num_iterations, \"rollouts):\", max_rollouts)\n",
        "\n",
        "print(\"\")"
      ],
      "execution_count": null,
      "outputs": [
        {
          "output_type": "stream",
          "name": "stdout",
          "text": [
            "Running the Monte Carlo Tree Search Algorithm to find the best move to make on the current state\n",
            "================================================================================================\n",
            "Number of rollouts on chidren of root node (representing current state of the game):\n",
            "\t39, 160, 104, 64, 473, 60, 193, 4703, 108, 26, 69, \n",
            "\n",
            "Best move to make for X: (2, 1)\n",
            "\n",
            "Resultant State:\n",
            "   0 1 2 3 \n",
            "0 |_|_|_|X|\n",
            "1 |_|S|_|_|\n",
            "2 |_|X|_|_|\n",
            "3 |X|_|O|O|\n",
            "\n",
            "Number of rollouts on this state (out of a total of 6000 rollouts): 4703\n",
            "\n"
          ]
        }
      ]
    },
    {
      "cell_type": "markdown",
      "metadata": {
        "id": "yq9bqBkB31lb"
      },
      "source": [
        "#Example 3: 4x4 Ex 3#\n",
        "This example features a 4x4 board with a clear winning oppotunity for X by placing a token at Row 0 Column 1.\n",
        "\n",
        "#Initial State#\n",
        "![4x4 win initial.PNG](data:image/png;base64,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)\n",
        "\n",
        "#Winning Move#\n",
        "![4x4 win.PNG](data:image/png;base64,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)"
      ]
    },
    {
      "cell_type": "code",
      "metadata": {
        "colab": {
          "base_uri": "https://localhost:8080/"
        },
        "id": "icscgilu3-wN",
        "outputId": "6ec79cc3-023c-44f5-fca3-fd5dbeab08b7"
      },
      "source": [
        "# A board on which X can win - Play the move at [0, 1]\n",
        "game = TicTacToeGame(4)\n",
        "current_state = game.create_game_state(neutral_moves=[(1, 1),], \n",
        "                                       players_moves=[(X, 0, 0), (O, 2, 0),\n",
        "                                                      (X, 0, 2), (O, 2, 2)])\n",
        "\n",
        "player = current_state.turn_to_string()                                       \n",
        "print(\"\\nCurrent State of the game:\\n\")\n",
        "game.display_state(current_state)\n",
        "print(\"\\nTurn:\", player)\n",
        "print()"
      ],
      "execution_count": null,
      "outputs": [
        {
          "output_type": "stream",
          "name": "stdout",
          "text": [
            "\n",
            "Current State of the game:\n",
            "\n",
            "   0 1 2 3 \n",
            "0 |X|_|X|_|\n",
            "1 |_|S|_|_|\n",
            "2 |O|_|O|_|\n",
            "3 |_|_|_|_|\n",
            "\n",
            "Turn: X\n",
            "\n"
          ]
        }
      ]
    },
    {
      "cell_type": "code",
      "metadata": {
        "colab": {
          "base_uri": "https://localhost:8080/"
        },
        "id": "AeJWEozUJ9Cs",
        "outputId": "d74feb7f-2dcd-472e-a03b-863a39af4852"
      },
      "source": [
        "print(\"Running the Monte Carlo Tree Search Algorithm to find the best move to make on the current state\")\n",
        "print(\"================================================================================================\")\n",
        "\n",
        "num_iterations = get_num_iterations(game)\n",
        "best_move, resultant_state, max_rollouts = monte_carlo_tree_search(game, current_state, num_iterations)\n",
        "print(\"Best move to make for \", player, \": \", best_move,  sep=\"\")\n",
        "print(\"\\nResultant State:\")\n",
        "game.display_state(resultant_state)\n",
        "print(\"\\nNumber of rollouts on this state (out of a total of\", num_iterations, \"rollouts):\", max_rollouts)\n",
        "\n",
        "print(\"\")"
      ],
      "execution_count": null,
      "outputs": [
        {
          "output_type": "stream",
          "name": "stdout",
          "text": [
            "Running the Monte Carlo Tree Search Algorithm to find the best move to make on the current state\n",
            "================================================================================================\n",
            "Number of rollouts on chidren of root node (representing current state of the game):\n",
            "\t5417, 45, 60, 98, 50, 89, 56, 40, 45, 47, 52, \n",
            "\n",
            "Best move to make for X: (0, 1)\n",
            "\n",
            "Resultant State:\n",
            "   0 1 2 3 \n",
            "0 |X|X|X|_|\n",
            "1 |_|S|_|_|\n",
            "2 |O|_|O|_|\n",
            "3 |_|_|_|_|\n",
            "\n",
            "Number of rollouts on this state (out of a total of 6000 rollouts): 5417\n",
            "\n"
          ]
        }
      ]
    },
    {
      "cell_type": "markdown",
      "metadata": {
        "id": "kQBx6brmCpeN"
      },
      "source": [
        "## Example 4: 5x5 Ex 1\n",
        "This example features a 5x5 board with only two moves having been made. It is X's turn to play and the best move to make is the one that will maximise its future moves."
      ]
    },
    {
      "cell_type": "code",
      "metadata": {
        "colab": {
          "base_uri": "https://localhost:8080/"
        },
        "id": "jA0PM_MiCmmz",
        "outputId": "a8dbc638-fda9-4d0b-8916-4539575f6771"
      },
      "source": [
        "game = TicTacToeGame(5)\n",
        "current_state = game.create_game_state(neutral_moves=[(1, 4), (3, 0)], \n",
        "                                       players_moves=[(X, 2, 2), (O, 3, 3)])\n",
        "\n",
        "player = current_state.turn_to_string()                                       \n",
        "print(\"\\nCurrent State of the game:\\n\")\n",
        "game.display_state(current_state)\n",
        "print(\"\\nTurn:\", player)\n",
        "print()"
      ],
      "execution_count": null,
      "outputs": [
        {
          "output_type": "stream",
          "name": "stdout",
          "text": [
            "\n",
            "Current State of the game:\n",
            "\n",
            "   0 1 2 3 4 \n",
            "0 |_|_|_|_|_|\n",
            "1 |_|_|_|_|S|\n",
            "2 |_|_|X|_|_|\n",
            "3 |S|_|_|O|_|\n",
            "4 |_|_|_|_|_|\n",
            "\n",
            "Turn: X\n",
            "\n"
          ]
        }
      ]
    },
    {
      "cell_type": "code",
      "metadata": {
        "colab": {
          "base_uri": "https://localhost:8080/"
        },
        "id": "Cg-OQhuZKAQn",
        "outputId": "c543380d-0afc-4ed2-8331-461554e98cc6"
      },
      "source": [
        "print(\"Running the Monte Carlo Tree Search Algorithm to find the best move to make on the current state\")\n",
        "print(\"================================================================================================\")\n",
        "\n",
        "num_iterations = get_num_iterations(game)\n",
        "best_move, resultant_state, max_rollouts = monte_carlo_tree_search(game, current_state, num_iterations)\n",
        "print(\"Best move to make for \", player, \": \", best_move,  sep=\"\")\n",
        "print(\"\\nResultant State:\")\n",
        "game.display_state(resultant_state)\n",
        "print(\"\\nNumber of rollouts on this state (out of a total of\", num_iterations, \"rollouts):\", max_rollouts)\n",
        "\n",
        "print(\"\")"
      ],
      "execution_count": null,
      "outputs": [
        {
          "output_type": "stream",
          "name": "stdout",
          "text": [
            "Running the Monte Carlo Tree Search Algorithm to find the best move to make on the current state\n",
            "================================================================================================\n",
            "Number of rollouts on chidren of root node (representing current state of the game):\n",
            "\t369, 265, 219, 394, 278, 238, 268, 1138, 954, 513, 803, 544, 566, 861, 810, 637, 281, 261, 227, 192, 181, \n",
            "\n",
            "Best move to make for X: (1, 2)\n",
            "\n",
            "Resultant State:\n",
            "   0 1 2 3 4 \n",
            "0 |_|_|_|_|_|\n",
            "1 |_|_|X|_|S|\n",
            "2 |_|_|X|_|_|\n",
            "3 |S|_|_|O|_|\n",
            "4 |_|_|_|_|_|\n",
            "\n",
            "Number of rollouts on this state (out of a total of 10000 rollouts): 1138\n",
            "\n"
          ]
        }
      ]
    },
    {
      "cell_type": "markdown",
      "metadata": {
        "id": "9dJOTqpy42aJ"
      },
      "source": [
        "#Example 5: 5x5 Ex 2#\n",
        "This example features a 5x5 board with a clear winning oppotunity for X. The best move in this regard is for X to play its token at row 1 column 4. \n",
        "\n",
        "#Initial State#\n",
        "![5x5 win initial.PNG](data:image/png;base64,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)\n",
        "\n",
        "#Winning Move#\n",
        "![5x5 win.PNG](data:image/png;base64,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)"
      ]
    },
    {
      "cell_type": "code",
      "metadata": {
        "colab": {
          "base_uri": "https://localhost:8080/"
        },
        "id": "M6tXhHtA47Ne",
        "outputId": "e299d962-bb61-428b-c66c-1021a99b8911"
      },
      "source": [
        "# Winning board for X - Play at [1, 4]\n",
        "game = TicTacToeGame(5)\n",
        "current_state = game.create_game_state(neutral_moves=[(2, 1), (1, 3)], \n",
        "                                       players_moves=[(X, 1, 1), (O, 0, 3),\n",
        "                                                      (X, 1, 2), (O, 1, 0)])\n",
        "\n",
        "player = current_state.turn_to_string()                                       \n",
        "print(\"\\nCurrent State of the game:\\n\")\n",
        "game.display_state(current_state)\n",
        "print(\"\\nTurn:\", player)\n",
        "print()"
      ],
      "execution_count": null,
      "outputs": [
        {
          "output_type": "stream",
          "name": "stdout",
          "text": [
            "\n",
            "Current State of the game:\n",
            "\n",
            "   0 1 2 3 4 \n",
            "0 |_|_|_|O|_|\n",
            "1 |O|X|X|S|_|\n",
            "2 |_|S|_|_|_|\n",
            "3 |_|_|_|_|_|\n",
            "4 |_|_|_|_|_|\n",
            "\n",
            "Turn: X\n",
            "\n"
          ]
        }
      ]
    },
    {
      "cell_type": "code",
      "metadata": {
        "colab": {
          "base_uri": "https://localhost:8080/"
        },
        "id": "_BOwN_zjKBw4",
        "outputId": "e48d9090-5b6f-4d15-e746-6eae68d5e2fd"
      },
      "source": [
        "print(\"Running the Monte Carlo Tree Search Algorithm to find the best move to make on the current state\")\n",
        "print(\"================================================================================================\")\n",
        "\n",
        "num_iterations = get_num_iterations(game)\n",
        "best_move, resultant_state, max_rollouts = monte_carlo_tree_search(game, current_state, num_iterations)\n",
        "print(\"Best move to make for \", player, \": \", best_move,  sep=\"\")\n",
        "print(\"\\nResultant State:\")\n",
        "game.display_state(resultant_state)\n",
        "print(\"\\nNumber of rollouts on this state (out of a total of\", num_iterations, \"rollouts):\", max_rollouts)\n",
        "\n",
        "print(\"\")"
      ],
      "execution_count": null,
      "outputs": [
        {
          "output_type": "stream",
          "name": "stdout",
          "text": [
            "Running the Monte Carlo Tree Search Algorithm to find the best move to make on the current state\n",
            "================================================================================================\n",
            "Number of rollouts on chidren of root node (representing current state of the game):\n",
            "\t118, 147, 157, 187, 6616, 187, 217, 299, 70, 189, 412, 161, 264, 115, 144, 177, 152, 213, 174, \n",
            "\n",
            "Best move to make for X: (1, 4)\n",
            "\n",
            "Resultant State:\n",
            "   0 1 2 3 4 \n",
            "0 |_|_|_|O|_|\n",
            "1 |O|X|X|S|X|\n",
            "2 |_|S|_|_|_|\n",
            "3 |_|_|_|_|_|\n",
            "4 |_|_|_|_|_|\n",
            "\n",
            "Number of rollouts on this state (out of a total of 10000 rollouts): 6616\n",
            "\n"
          ]
        }
      ]
    },
    {
      "cell_type": "markdown",
      "metadata": {
        "id": "7WkDjJQ8Cp-R"
      },
      "source": [
        "## Example 6: 6x6 Ex 1\n",
        "This example features a 6x6 board on which four moves have been made. The current state of the game is such that all the placed tokens are along the main diagonal. The ideal move for X would be to place its token strategically so that for its future turns, it has a better oppotuninty of winning as compared to O. "
      ]
    },
    {
      "cell_type": "code",
      "metadata": {
        "colab": {
          "base_uri": "https://localhost:8080/"
        },
        "id": "v1D-b9zbCmfJ",
        "outputId": "2d4e1ce1-c3fa-4ade-8e84-4ac30f18185a"
      },
      "source": [
        "game = TicTacToeGame(6)\n",
        "current_state =game.create_game_state(neutral_moves=[(1, 1), (4, 4)], \n",
        "                                      players_moves=[(X, 0, 0), (O, 2, 2), \n",
        "                                                    (X, 3, 3), (O, 5, 5)])\n",
        "\n",
        "player = current_state.turn_to_string()                                       \n",
        "print(\"\\nCurrent State of the game:\\n\")\n",
        "game.display_state(current_state)\n",
        "print(\"\\nTurn:\", player)\n",
        "print()"
      ],
      "execution_count": null,
      "outputs": [
        {
          "output_type": "stream",
          "name": "stdout",
          "text": [
            "\n",
            "Current State of the game:\n",
            "\n",
            "   0 1 2 3 4 5 \n",
            "0 |X|_|_|_|_|_|\n",
            "1 |_|S|_|_|_|_|\n",
            "2 |_|_|O|_|_|_|\n",
            "3 |_|_|_|X|_|_|\n",
            "4 |_|_|_|_|S|_|\n",
            "5 |_|_|_|_|_|O|\n",
            "\n",
            "Turn: X\n",
            "\n"
          ]
        }
      ]
    },
    {
      "cell_type": "code",
      "metadata": {
        "colab": {
          "base_uri": "https://localhost:8080/"
        },
        "id": "FyhAil40KDFb",
        "outputId": "14284776-5f9e-4fbb-afe3-d6a1731a08d7"
      },
      "source": [
        "print(\"Running the Monte Carlo Tree Search Algorithm to find the best move to make on the current state\")\n",
        "print(\"================================================================================================\")\n",
        "\n",
        "num_iterations = get_num_iterations(game)\n",
        "best_move, resultant_state, max_rollouts = monte_carlo_tree_search(game, current_state, num_iterations)\n",
        "print(\"Best move to make for \", player, \": \", best_move,  sep=\"\")\n",
        "print(\"\\nResultant State:\")\n",
        "game.display_state(resultant_state)\n",
        "print(\"\\nNumber of rollouts on this state (out of a total of\", num_iterations, \"rollouts):\", max_rollouts)\n",
        "\n",
        "print(\"\")"
      ],
      "execution_count": null,
      "outputs": [
        {
          "output_type": "stream",
          "name": "stdout",
          "text": [
            "Running the Monte Carlo Tree Search Algorithm to find the best move to make on the current state\n",
            "================================================================================================\n",
            "Number of rollouts on chidren of root node (representing current state of the game):\n",
            "\t445, 597, 508, 290, 307, 551, 775, 1381, 588, 266, 585, 1426, 1273, 957, 466, 472, 2956, 1463, 1596, 451, 335, 717, 1748, 2374, 241, 185, 276, 416, 578, 276, \n",
            "\n",
            "Best move to make for X: (3, 1)\n",
            "\n",
            "Resultant State:\n",
            "   0 1 2 3 4 5 \n",
            "0 |X|_|_|_|_|_|\n",
            "1 |_|S|_|_|_|_|\n",
            "2 |_|_|O|_|_|_|\n",
            "3 |_|X|_|X|_|_|\n",
            "4 |_|_|_|_|S|_|\n",
            "5 |_|_|_|_|_|O|\n",
            "\n",
            "Number of rollouts on this state (out of a total of 24500 rollouts): 2956\n",
            "\n"
          ]
        }
      ]
    },
    {
      "cell_type": "markdown",
      "metadata": {
        "id": "z3rFjYgw6AXc"
      },
      "source": [
        "#Example 7: 6x6 Ex 2#\n",
        "\n",
        "#Initial State#\n",
        "![6x6 win initial.PNG](data:image/png;base64,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)\n",
        "\n",
        "# Winning Move#\n",
        "![6x6 win.PNG](data:image/png;base64,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)"
      ]
    },
    {
      "cell_type": "code",
      "metadata": {
        "colab": {
          "base_uri": "https://localhost:8080/"
        },
        "id": "Ko2SnlQA6FZJ",
        "outputId": "a4f98fd4-58ba-4b8f-da48-9d2b55ac63a2"
      },
      "source": [
        "# Winning board for O - Play at [2, 2]\n",
        "game = TicTacToeGame(6)\n",
        "current_state = game.create_game_state(neutral_moves=[(2, 1), (3, 4)], \n",
        "                                       players_moves=[(X, 2, 5), (O, 2, 3),\n",
        "                                                      (X, 4, 3), (O, 2, 4),\n",
        "                                                      (X, 4, 4)])\n",
        "\n",
        "player = current_state.turn_to_string()                                       \n",
        "print(\"\\nCurrent State of the game:\\n\")\n",
        "game.display_state(current_state)\n",
        "print(\"\\nTurn:\", player)\n",
        "print()"
      ],
      "execution_count": null,
      "outputs": [
        {
          "output_type": "stream",
          "name": "stdout",
          "text": [
            "\n",
            "Current State of the game:\n",
            "\n",
            "   0 1 2 3 4 5 \n",
            "0 |_|_|_|_|_|_|\n",
            "1 |_|_|_|_|_|_|\n",
            "2 |_|S|_|O|O|X|\n",
            "3 |_|_|_|_|S|_|\n",
            "4 |_|_|_|X|X|_|\n",
            "5 |_|_|_|_|_|_|\n",
            "\n",
            "Turn: O\n",
            "\n"
          ]
        }
      ]
    },
    {
      "cell_type": "code",
      "metadata": {
        "colab": {
          "base_uri": "https://localhost:8080/"
        },
        "id": "-zNuW8DYKECh",
        "outputId": "3bb98fb6-fcde-4205-8055-c9adb3bb3e02"
      },
      "source": [
        "print(\"Running the Monte Carlo Tree Search Algorithm to find the best move to make on the current state\")\n",
        "print(\"================================================================================================\")\n",
        "\n",
        "num_iterations = get_num_iterations(game)\n",
        "best_move, resultant_state, max_rollouts = monte_carlo_tree_search(game, current_state, num_iterations)\n",
        "print(\"Best move to make for \", player, \": \", best_move,  sep=\"\")\n",
        "print(\"\\nResultant State:\")\n",
        "game.display_state(resultant_state)\n",
        "print(\"\\nNumber of rollouts on this state (out of a total of\", num_iterations, \"rollouts):\", max_rollouts)\n",
        "\n",
        "print(\"\")"
      ],
      "execution_count": null,
      "outputs": [
        {
          "output_type": "stream",
          "name": "stdout",
          "text": [
            "Running the Monte Carlo Tree Search Algorithm to find the best move to make on the current state\n",
            "================================================================================================\n",
            "Number of rollouts on chidren of root node (representing current state of the game):\n",
            "\t2147, 354, 676, 795, 320, 1273, 1040, 727, 281, 941, 387, 1066, 1175, 71, 814, 579, 399, 460, 781, 1417, 511, 379, 390, 1424, 1082, 1238, 1328, 1062, 1382, \n",
            "\n",
            "Best move to make for O: (0, 0)\n",
            "\n",
            "Resultant State:\n",
            "   0 1 2 3 4 5 \n",
            "0 |O|_|_|_|_|_|\n",
            "1 |_|_|_|_|_|_|\n",
            "2 |_|S|_|O|O|X|\n",
            "3 |_|_|_|_|S|_|\n",
            "4 |_|_|_|X|X|_|\n",
            "5 |_|_|_|_|_|_|\n",
            "\n",
            "Number of rollouts on this state (out of a total of 24500 rollouts): 2147\n",
            "\n"
          ]
        }
      ]
    },
    {
      "cell_type": "markdown",
      "metadata": {
        "id": "gVW_dQZeCqXl"
      },
      "source": [
        "## Example 8: 7x7 Ex 1\n",
        "This example features a 7x7 board. Due to its large board size and lack of moves made, there are plenty oppotunities for placing the next token strategically. "
      ]
    },
    {
      "cell_type": "code",
      "metadata": {
        "colab": {
          "base_uri": "https://localhost:8080/"
        },
        "id": "9KrsILScCmXZ",
        "outputId": "9242005a-1df4-40a5-852d-e96b068b1884"
      },
      "source": [
        "game = TicTacToeGame(7)\n",
        "current_state = game.create_game_state(neutral_moves=[(2,2), (3, 5), (6, 1)], \n",
        "                                       players_moves=[(X, 6, 2), (O, 1, 3), \n",
        "                                                     (X, 3, 4)])\n",
        "\n",
        "player = current_state.turn_to_string()                                       \n",
        "print(\"\\nCurrent State of the game:\\n\")\n",
        "game.display_state(current_state)\n",
        "print(\"\\nTurn:\", player)\n",
        "print()"
      ],
      "execution_count": null,
      "outputs": [
        {
          "output_type": "stream",
          "name": "stdout",
          "text": [
            "\n",
            "Current State of the game:\n",
            "\n",
            "   0 1 2 3 4 5 6 \n",
            "0 |_|_|_|_|_|_|_|\n",
            "1 |_|_|_|O|_|_|_|\n",
            "2 |_|_|S|_|_|_|_|\n",
            "3 |_|_|_|_|X|S|_|\n",
            "4 |_|_|_|_|_|_|_|\n",
            "5 |_|_|_|_|_|_|_|\n",
            "6 |_|S|X|_|_|_|_|\n",
            "\n",
            "Turn: O\n",
            "\n"
          ]
        }
      ]
    },
    {
      "cell_type": "code",
      "metadata": {
        "colab": {
          "base_uri": "https://localhost:8080/"
        },
        "id": "PPBVoDrPKFL6",
        "outputId": "7e82daaf-c762-4ef4-d0af-8cad245860b1"
      },
      "source": [
        "print(\"Running the Monte Carlo Tree Search Algorithm to find the best move to make on the current state\")\n",
        "print(\"================================================================================================\")\n",
        "\n",
        "num_iterations = get_num_iterations(game)\n",
        "best_move, resultant_state, max_rollouts = monte_carlo_tree_search(game, current_state, num_iterations)\n",
        "print(\"Best move to make for \", player, \": \", best_move,  sep=\"\")\n",
        "print(\"\\nResultant State:\")\n",
        "game.display_state(resultant_state)\n",
        "print(\"\\nNumber of rollouts on this state (out of a total of\", num_iterations, \"rollouts):\", max_rollouts)\n",
        "\n",
        "print(\"\")"
      ],
      "execution_count": null,
      "outputs": [
        {
          "output_type": "stream",
          "name": "stdout",
          "text": [
            "Running the Monte Carlo Tree Search Algorithm to find the best move to make on the current state\n",
            "================================================================================================\n",
            "Number of rollouts on chidren of root node (representing current state of the game):\n",
            "\t831, 1513, 613, 1503, 587, 736, 991, 889, 573, 479, 628, 605, 1105, 776, 820, 573, 367, 449, 705, 1173, 523, 386, 424, 776, 538, 761, 519, 793, 567, 608, 542, 985, 775, 1139, 656, 676, 543, 958, 1257, 479, 579, 740, 859, \n",
            "\n",
            "Best move to make for O: (0, 1)\n",
            "\n",
            "Resultant State:\n",
            "   0 1 2 3 4 5 6 \n",
            "0 |_|O|_|_|_|_|_|\n",
            "1 |_|_|_|O|_|_|_|\n",
            "2 |_|_|S|_|_|_|_|\n",
            "3 |_|_|_|_|X|S|_|\n",
            "4 |_|_|_|_|_|_|_|\n",
            "5 |_|_|_|_|_|_|_|\n",
            "6 |_|S|X|_|_|_|_|\n",
            "\n",
            "Number of rollouts on this state (out of a total of 32000 rollouts): 1513\n",
            "\n"
          ]
        }
      ]
    },
    {
      "cell_type": "markdown",
      "metadata": {
        "id": "ku3jyAAmCqp9"
      },
      "source": [
        "## Example 9: 7x7 Ex 2"
      ]
    },
    {
      "cell_type": "code",
      "metadata": {
        "colab": {
          "base_uri": "https://localhost:8080/"
        },
        "id": "vxJhofZFCmPf",
        "outputId": "97a71084-c3aa-4cd0-d5c0-ee8ec3e66fd7"
      },
      "source": [
        "game = TicTacToeGame(7)\n",
        "current_state = game.create_game_state(neutral_moves=[(2, 2), (4, 5), (6, 1)], \n",
        "                                       players_moves=[(X, 1, 2), (O, 1, 3), \n",
        "                                                     (X, 3, 1), (O, 2,0), \n",
        "                                                     (X, 3, 4)])\n",
        "\n",
        "player = current_state.turn_to_string()                                       \n",
        "print(\"\\nCurrent State of the game:\\n\")\n",
        "game.display_state(current_state)\n",
        "print(\"\\nTurn:\", player)\n",
        "print()"
      ],
      "execution_count": null,
      "outputs": [
        {
          "output_type": "stream",
          "name": "stdout",
          "text": [
            "\n",
            "Current State of the game:\n",
            "\n",
            "   0 1 2 3 4 5 6 \n",
            "0 |_|_|_|_|_|_|_|\n",
            "1 |_|_|X|O|_|_|_|\n",
            "2 |O|_|S|_|_|_|_|\n",
            "3 |_|X|_|_|X|_|_|\n",
            "4 |_|_|_|_|_|S|_|\n",
            "5 |_|_|_|_|_|_|_|\n",
            "6 |_|S|_|_|_|_|_|\n",
            "\n",
            "Turn: O\n",
            "\n"
          ]
        }
      ]
    },
    {
      "cell_type": "code",
      "metadata": {
        "colab": {
          "base_uri": "https://localhost:8080/"
        },
        "id": "MYGtaU1AKGIl",
        "outputId": "48d11e11-6f54-4dfc-8800-730e018da681"
      },
      "source": [
        "print(\"Running the Monte Carlo Tree Search Algorithm to find the best move to make on the current state\")\n",
        "print(\"================================================================================================\")\n",
        "\n",
        "num_iterations = get_num_iterations(game)\n",
        "best_move, resultant_state, max_rollouts = monte_carlo_tree_search(game, current_state, num_iterations)\n",
        "print(\"Best move to make for \", player, \": \", best_move,  sep=\"\")\n",
        "print(\"\\nResultant State:\")\n",
        "game.display_state(resultant_state)\n",
        "print(\"\\nNumber of rollouts on this state (out of a total of\", num_iterations, \"rollouts):\", max_rollouts)\n",
        "\n",
        "print(\"\")"
      ],
      "execution_count": null,
      "outputs": [
        {
          "output_type": "stream",
          "name": "stdout",
          "text": [
            "Running the Monte Carlo Tree Search Algorithm to find the best move to make on the current state\n",
            "================================================================================================\n",
            "Number of rollouts on chidren of root node (representing current state of the game):\n",
            "\t1406, 656, 775, 859, 881, 1087, 805, 846, 857, 1183, 800, 1090, 635, 274, 454, 780, 1231, 678, 620, 493, 483, 1317, 922, 875, 690, 539, 394, 599, 1001, 1141, 632, 693, 876, 571, 768, 687, 509, 666, 574, 693, 959, \n",
            "\n",
            "Best move to make for O: (0, 0)\n",
            "\n",
            "Resultant State:\n",
            "   0 1 2 3 4 5 6 \n",
            "0 |O|_|_|_|_|_|_|\n",
            "1 |_|_|X|O|_|_|_|\n",
            "2 |O|_|S|_|_|_|_|\n",
            "3 |_|X|_|_|X|_|_|\n",
            "4 |_|_|_|_|_|S|_|\n",
            "5 |_|_|_|_|_|_|_|\n",
            "6 |_|S|_|_|_|_|_|\n",
            "\n",
            "Number of rollouts on this state (out of a total of 32000 rollouts): 1406\n",
            "\n"
          ]
        }
      ]
    },
    {
      "cell_type": "markdown",
      "metadata": {
        "id": "sXsBOfHNCrO_"
      },
      "source": [
        "#Example 10: 7x7 Ex 3#\n",
        "This example features a 7x7 board with a clear oppotunity ofr X to win. The penultimate move was made by O, where O has tried to stop X from winning. However, there is still a cell that X may make a move in to win the game.\n",
        "\n",
        "#Initial State#\n",
        "![7x7 win initial.PNG](data:image/png;base64,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)\n",
        "\n",
        "#Winning Move#\n",
        "![7x7 win.PNG](data:image/png;base64,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)"
      ]
    },
    {
      "cell_type": "code",
      "metadata": {
        "colab": {
          "base_uri": "https://localhost:8080/"
        },
        "id": "GDMqeLCACmFn",
        "outputId": "e370fa2f-205e-4548-e366-847b507a691f"
      },
      "source": [
        "# A Game state that requires one move to win - X should play at [1, 6]\n",
        "game = TicTacToeGame(7)\n",
        "current_state = game.create_game_state(neutral_moves=[(1, 0), (2, 5), (5, 3)], \n",
        "                                       players_moves=[(X, 5, 2), (O, 1, 1), \n",
        "                                                     (X, 4, 3), (O, 1, 2), \n",
        "                                                     (X, 3, 3), (O, 3, 2),\n",
        "                                                      (X, 3, 4), (O, 6, 1)])\n",
        "\n",
        "player = current_state.turn_to_string()                                       \n",
        "print(\"\\nCurrent State of the game:\\n\")\n",
        "game.display_state(current_state)\n",
        "print(\"\\nTurn:\", player)\n",
        "print()"
      ],
      "execution_count": null,
      "outputs": [
        {
          "output_type": "stream",
          "name": "stdout",
          "text": [
            "\n",
            "Current State of the game:\n",
            "\n",
            "   0 1 2 3 4 5 6 \n",
            "0 |_|_|_|_|_|_|_|\n",
            "1 |S|O|O|_|_|_|_|\n",
            "2 |_|_|_|_|_|S|_|\n",
            "3 |_|_|O|X|X|_|_|\n",
            "4 |_|_|_|X|_|_|_|\n",
            "5 |_|_|X|S|_|_|_|\n",
            "6 |_|O|_|_|_|_|_|\n",
            "\n",
            "Turn: X\n",
            "\n"
          ]
        }
      ]
    },
    {
      "cell_type": "code",
      "metadata": {
        "colab": {
          "base_uri": "https://localhost:8080/"
        },
        "id": "lxvUggv8KKrA",
        "outputId": "5ac8ebdf-0d21-46b6-de3f-5d617e59e9db"
      },
      "source": [
        "print(\"Running the Monte Carlo Tree Search Algorithm to find the best move to make on the current state\")\n",
        "print(\"================================================================================================\")\n",
        "\n",
        "num_iterations = get_num_iterations(game)\n",
        "best_move, resultant_state, max_rollouts = monte_carlo_tree_search(game, current_state, num_iterations)\n",
        "print(\"Best move to make for \", player, \": \", best_move,  sep=\"\")\n",
        "print(\"\\nResultant State:\")\n",
        "game.display_state(resultant_state)\n",
        "print(\"\\nNumber of rollouts on this state (out of a total of\", num_iterations, \"rollouts):\", max_rollouts)\n",
        "\n",
        "print(\"\")"
      ],
      "execution_count": null,
      "outputs": [
        {
          "output_type": "stream",
          "name": "stdout",
          "text": [
            "Running the Monte Carlo Tree Search Algorithm to find the best move to make on the current state\n",
            "================================================================================================\n",
            "Number of rollouts on chidren of root node (representing current state of the game):\n",
            "\t154, 163, 305, 285, 217, 204, 209, 458, 426, 233, 22272, 196, 218, 394, 666, 261, 297, 204, 226, 229, 148, 254, 163, 295, 195, 273, 222, 191, 191, 475, 239, 231, 181, 181, 344, 252, 225, 322, \n",
            "\n",
            "Best move to make for X: (1, 6)\n",
            "\n",
            "Resultant State:\n",
            "   0 1 2 3 4 5 6 \n",
            "0 |_|_|_|_|_|_|_|\n",
            "1 |S|O|O|_|_|_|X|\n",
            "2 |_|_|_|_|_|S|_|\n",
            "3 |_|_|O|X|X|_|_|\n",
            "4 |_|_|_|X|_|_|_|\n",
            "5 |_|_|X|S|_|_|_|\n",
            "6 |_|O|_|_|_|_|_|\n",
            "\n",
            "Number of rollouts on this state (out of a total of 32000 rollouts): 22272\n",
            "\n"
          ]
        }
      ]
    },
    {
      "cell_type": "markdown",
      "metadata": {
        "id": "-CBVJ0ygCvCC"
      },
      "source": [
        "User input (we dont need this)\n",
        "\n"
      ]
    },
    {
      "cell_type": "code",
      "metadata": {
        "colab": {
          "background_save": true
        },
        "id": "2Q_f-i9j1jfu"
      },
      "source": [
        "\"\"\"\n",
        "# Dimension of the board from user\n",
        "try:\n",
        "  size = int(input(\"Enter the size of the square board (4,5,6,7): \"))\n",
        "\n",
        "  if size < 4 or size > 7:\n",
        "    size = 4 # Default if invalid value entered\n",
        "except ValueError:\n",
        "  size = 4 # Default if invalid (non-int) input\n",
        "\n",
        "# Create game instance\n",
        "ttt_game = TicTacToeGame(size)\n",
        "\n",
        "\n",
        "# Create an initial state - No X's or O's are present\n",
        "\n",
        "initial_state = ttt_game.create_game_state()\n",
        "\n",
        "next_state = ttt_game.get_child_states(initial_state)\n",
        "new_state = next_state[5]\n",
        "move = [2,1]\n",
        "next_state = ttt_game.play_move(new_state,move)\n",
        "\n",
        "ttt_game.display_state(next_state)\n",
        "\n",
        "\n",
        "best_move, resultant_state = monte_carlo_tree_search(ttt_game, next_state, 100)\n",
        "\"\"\""
      ],
      "execution_count": null,
      "outputs": []
    }
  ]
}